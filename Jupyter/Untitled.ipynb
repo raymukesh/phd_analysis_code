{
 "cells": [
  {
   "cell_type": "code",
   "execution_count": 1,
   "id": "38ced27e",
   "metadata": {},
   "outputs": [],
   "source": [
    "import ee\n",
    "import geemap"
   ]
  },
  {
   "cell_type": "code",
   "execution_count": 45,
   "id": "22f29879",
   "metadata": {},
   "outputs": [
    {
     "data": {
      "application/vnd.jupyter.widget-view+json": {
       "model_id": "f32ed715a2e547e0855ce97e9bac74d6",
       "version_major": 2,
       "version_minor": 0
      },
      "text/plain": [
       "Map(center=[40, -100], controls=(WidgetControl(options=['position', 'transparent_bg'], widget=HBox(children=(T…"
      ]
     },
     "metadata": {},
     "output_type": "display_data"
    },
    {
     "data": {
      "application/javascript": [
       "\n",
       "        var code = IPython.notebook.insert_cell_below('code');\n",
       "        code.set_text(atob(\"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\"));\n",
       "    "
      ],
      "text/plain": [
       "<IPython.core.display.Javascript object>"
      ]
     },
     "metadata": {},
     "output_type": "display_data"
    }
   ],
   "source": [
    "Map = geemap.Map()\n",
    "Map"
   ]
  },
  {
   "cell_type": "code",
   "execution_count": 57,
   "id": "f5d6a8d4",
   "metadata": {},
   "outputs": [],
   "source": [
    "site = ee.FeatureCollection('users/Introduction/study_area')\n",
    "Map.addLayer(site, {}, \"study_area\")"
   ]
  },
  {
   "cell_type": "code",
   "execution_count": 62,
   "id": "c2c3ef6f",
   "metadata": {},
   "outputs": [
    {
     "name": "stdout",
     "output_type": "stream",
     "text": [
      "Mean Radiance in 2015:  5.32589382353451\n",
      "Mean Radiance in 2020:  6.551199360512761\n"
     ]
    }
   ],
   "source": [
    "# Assignment 1\n",
    "\n",
    "# Export the Night Lights images for May,2015 and May,2020\n",
    "# Filter the collection to the date range\n",
    "# Extract the 'avg_rad' band which represents the nighttime lights\n",
    "# Clip the image to the geometry of your city\n",
    "# Export the resulting image as a GeoTIFF file.\n",
    "\n",
    "# Hint1:\n",
    "\n",
    "# There are 2 VIIRS Nighttime Day/Night collections\n",
    "# Use the one that corrects for stray light\n",
    "\n",
    "# Hint2:\n",
    "\n",
    "# The collection contains 1 global image per month\n",
    "# After filtering for the month, there will be only 1 image in the collection\n",
    "\n",
    "# You can use the following technique to extract that image\n",
    "# image = ee.Image(filtered.first())\n",
    "\n",
    "#==================================================================\n",
    "#                 BEGINNING OF ASSIGNMENT 1 - MUKESH RAY\n",
    "#==================================================================\n",
    "\n",
    "# Loading and Filtering the study area from GAUL dataset -- in this case Delhi, India\n",
    "delhi = ee.FeatureCollection(\"FAO/GAUL_SIMPLIFIED_500m/2015/level2\") \\\n",
    "              .filter(ee.Filter.eq(\"ADM1_NAME\", \"Delhi\"))\n",
    "\n",
    "\n",
    "\n",
    "Map.centerObject(site, 9)\n",
    "Map.addLayer(site)\n",
    "\n",
    "# Loading the VIIRS image collection\n",
    "viirs = ee.ImageCollection(\"NOAA/VIIRS/DNB/MONTHLY_V1/VCMSLCFG\")\n",
    "\n",
    "# Filtering one year of VIIRS dataset for 2015 and taking the first image\n",
    "night2015 = viirs.filter(ee.Filter.date(\"2015-01-01\", \"2015-12-31\")) \\\n",
    "                      .select('avg_rad') \\\n",
    "                      .first()\n",
    "\n",
    "# Filtering last one month of VIIRS dataset for 2020 (December)\n",
    "night2020 = viirs.filter(ee.Filter.date(\"2020-12-01\", \"2020-12-31\")) \\\n",
    "                      .select('avg_rad') \\\n",
    "                      .first()\n",
    "\n",
    "# Visualizing the the datasets for 2015 and 2020\n",
    "Map.addLayer(night2015.clip(site), {'min':0, 'max':50, 'palette': ['0c0c0c', '071aff', 'ff0000', 'ffbd03', 'fbff05', 'fffdfd']}, 'Night2015')\n",
    "Map.addLayer(night2020.clip(site), {'min':0, 'max':50, 'palette': ['0c0c0c', '071aff', 'ff0000', 'ffbd03', 'fbff05', 'fffdfd']}, 'Night2020')\n",
    "\n",
    "# Find the mean radiance in the Delhi for 2015 and 2020\n",
    "mean2015 = night2015.reduceRegion(\n",
    "  reducer= ee.Reducer.mean(),\n",
    "  geometry = site,\n",
    "  scale = 500,\n",
    "  maxPixels = 1e9\n",
    "  )\n",
    "\n",
    "mean2020 = night2020.reduceRegion(\n",
    "  reducer= ee.Reducer.mean(),\n",
    "  geometry = site,\n",
    "  scale = 500,\n",
    "  maxPixels = 1e9\n",
    "  )\n",
    "\n",
    "print(\"Mean Radiance in 2015: \", mean2015.get('avg_rad').getInfo())\n",
    "print(\"Mean Radiance in 2020: \", mean2020.get('avg_rad').getInfo())\n",
    "\n",
    "\n",
    "# By comparing the mean of night light in 2015 and 2020, it is observed that the night light has decreased in 2020\n",
    "# compared to 2015.\n",
    "\n",
    "# # Export both the images\n",
    "# Export.image.toDrive({\n",
    "#   image: night2015,\n",
    "#   description: \"night2015\",\n",
    "#   folder: \"GEE_Workshop\",\n",
    "#   region: delhi,\n",
    "#   scale: 500,\n",
    "#   maxPixels: 1e10,\n",
    "#   fileFormat: 'GeoTIFF'\n",
    "#   })\n",
    "\n",
    "# Export.image.toDrive({\n",
    "#   image: night2020,\n",
    "#   description: \"night2020\",\n",
    "#   folder: \"GEE_Workshop\",\n",
    "#   region: delhi,\n",
    "#   scale: 500,\n",
    "#   maxPixels: 1e10,\n",
    "#   fileFormat: 'GeoTIFF'\n",
    "#   })\n",
    "\n",
    "# END OF ASSIGNMENT 1\n"
   ]
  },
  {
   "cell_type": "code",
   "execution_count": 34,
   "id": "783c5ca4",
   "metadata": {},
   "outputs": [
    {
     "name": "stdout",
     "output_type": "stream",
     "text": [
      "the mean avg radiance (per month) for the pixels in our Timor-Leste region is: 0.2980\n",
      "the std dev is: 0.6565\n"
     ]
    }
   ],
   "source": [
    "mu = ntl_tls.reduceRegion(reducer=ee.Reducer.mean())\n",
    "std = ntl_tls.reduceRegion(reducer=ee.Reducer.stdDev())\n",
    "\n",
    "# we'll cast these to native ee Numbers using the ee.Number constructor\n",
    "mu = ee.Number(mu.get('avg_rad'))\n",
    "std = ee.Number(std.get('avg_rad'))\n",
    "\n",
    "# in order to confirm, we have to evaluate this to print client size (i.e. our computer)\n",
    "print(f\"the mean avg radiance (per month) for the pixels in our Timor-Leste region is: {mu.getInfo():.4f}\")\n",
    "print(f\"the std dev is: {std.getInfo():.4f}\")"
   ]
  }
 ],
 "metadata": {
  "kernelspec": {
   "display_name": "Python [conda env:gee] *",
   "language": "python",
   "name": "conda-env-gee-py"
  },
  "language_info": {
   "codemirror_mode": {
    "name": "ipython",
    "version": 3
   },
   "file_extension": ".py",
   "mimetype": "text/x-python",
   "name": "python",
   "nbconvert_exporter": "python",
   "pygments_lexer": "ipython3",
   "version": "3.8.10"
  }
 },
 "nbformat": 4,
 "nbformat_minor": 5
}
