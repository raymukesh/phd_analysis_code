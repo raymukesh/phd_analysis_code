{
 "cells": [
  {
   "cell_type": "code",
   "execution_count": 1,
   "metadata": {},
   "outputs": [],
   "source": [
    "import ee\n",
    "import geemap"
   ]
  },
  {
   "cell_type": "code",
   "execution_count": 1,
   "metadata": {},
   "outputs": [
    {
     "ename": "NameError",
     "evalue": "name 'geemap' is not defined",
     "output_type": "error",
     "traceback": [
      "\u001b[1;31m---------------------------------------------------------------------------\u001b[0m",
      "\u001b[1;31mNameError\u001b[0m                                 Traceback (most recent call last)",
      "\u001b[1;32m~\\AppData\\Local\\Temp/ipykernel_5244/1828924194.py\u001b[0m in \u001b[0;36m<module>\u001b[1;34m\u001b[0m\n\u001b[1;32m----> 1\u001b[1;33m \u001b[0mMap\u001b[0m \u001b[1;33m=\u001b[0m \u001b[0mgeemap\u001b[0m\u001b[1;33m.\u001b[0m\u001b[0mMap\u001b[0m\u001b[1;33m(\u001b[0m\u001b[1;33m)\u001b[0m\u001b[1;33m\u001b[0m\u001b[1;33m\u001b[0m\u001b[0m\n\u001b[0m\u001b[0;32m      2\u001b[0m \u001b[0mMap\u001b[0m\u001b[1;33m\u001b[0m\u001b[1;33m\u001b[0m\u001b[0m\n",
      "\u001b[1;31mNameError\u001b[0m: name 'geemap' is not defined"
     ]
    }
   ],
   "source": [
    "Map = geemap.Map()\n",
    "Map"
   ]
  },
  {
   "cell_type": "code",
   "execution_count": 57,
   "metadata": {},
   "outputs": [],
   "source": [
    "site = ee.FeatureCollection('users/Introduction/study_area')\n",
    "Map.addLayer(site, {}, \"study_area\")"
   ]
  },
  {
   "cell_type": "code",
   "execution_count": 62,
   "metadata": {},
   "outputs": [
    {
     "name": "stdout",
     "output_type": "stream",
     "text": [
      "Mean Radiance in 2015:  5.32589382353451\n",
      "Mean Radiance in 2020:  6.551199360512761\n"
     ]
    }
   ],
   "source": [
    "# Assignment 1\n",
    "\n",
    "# Export the Night Lights images for May,2015 and May,2020\n",
    "# Filter the collection to the date range\n",
    "# Extract the 'avg_rad' band which represents the nighttime lights\n",
    "# Clip the image to the geometry of your city\n",
    "# Export the resulting image as a GeoTIFF file.\n",
    "\n",
    "# Hint1:\n",
    "\n",
    "# There are 2 VIIRS Nighttime Day/Night collections\n",
    "# Use the one that corrects for stray light\n",
    "\n",
    "# Hint2:\n",
    "\n",
    "# The collection contains 1 global image per month\n",
    "# After filtering for the month, there will be only 1 image in the collection\n",
    "\n",
    "# You can use the following technique to extract that image\n",
    "# image = ee.Image(filtered.first())\n",
    "\n",
    "#==================================================================\n",
    "#                 BEGINNING OF ASSIGNMENT 1 - MUKESH RAY\n",
    "#==================================================================\n",
    "\n",
    "# Loading and Filtering the study area from GAUL dataset -- in this case Delhi, India\n",
    "delhi = ee.FeatureCollection(\"FAO/GAUL_SIMPLIFIED_500m/2015/level2\") \\\n",
    "              .filter(ee.Filter.eq(\"ADM1_NAME\", \"Delhi\"))\n",
    "\n",
    "\n",
    "\n",
    "Map.centerObject(site, 9)\n",
    "Map.addLayer(site)\n",
    "\n",
    "# Loading the VIIRS image collection\n",
    "viirs = ee.ImageCollection(\"NOAA/VIIRS/DNB/MONTHLY_V1/VCMSLCFG\")\n",
    "\n",
    "# Filtering one year of VIIRS dataset for 2015 and taking the first image\n",
    "night2015 = viirs.filter(ee.Filter.date(\"2015-01-01\", \"2015-12-31\")) \\\n",
    "                      .select('avg_rad') \\\n",
    "                      .first()\n",
    "\n",
    "# Filtering last one month of VIIRS dataset for 2020 (December)\n",
    "night2020 = viirs.filter(ee.Filter.date(\"2020-12-01\", \"2020-12-31\")) \\\n",
    "                      .select('avg_rad') \\\n",
    "                      .first()\n",
    "\n",
    "# Visualizing the the datasets for 2015 and 2020\n",
    "Map.addLayer(night2015.clip(site), {'min':0, 'max':50, 'palette': ['0c0c0c', '071aff', 'ff0000', 'ffbd03', 'fbff05', 'fffdfd']}, 'Night2015')\n",
    "Map.addLayer(night2020.clip(site), {'min':0, 'max':50, 'palette': ['0c0c0c', '071aff', 'ff0000', 'ffbd03', 'fbff05', 'fffdfd']}, 'Night2020')\n",
    "\n",
    "# Find the mean radiance in the Delhi for 2015 and 2020\n",
    "mean2015 = night2015.reduceRegion(\n",
    "  reducer= ee.Reducer.mean(),\n",
    "  geometry = site,\n",
    "  scale = 500,\n",
    "  maxPixels = 1e9\n",
    "  )\n",
    "\n",
    "mean2020 = night2020.reduceRegion(\n",
    "  reducer= ee.Reducer.mean(),\n",
    "  geometry = site,\n",
    "  scale = 500,\n",
    "  maxPixels = 1e9\n",
    "  )\n",
    "\n",
    "print(\"Mean Radiance in 2015: \", mean2015.get('avg_rad').getInfo())\n",
    "print(\"Mean Radiance in 2020: \", mean2020.get('avg_rad').getInfo())\n",
    "\n",
    "\n",
    "# By comparing the mean of night light in 2015 and 2020, it is observed that the night light has decreased in 2020\n",
    "# compared to 2015.\n",
    "\n",
    "# # Export both the images\n",
    "# Export.image.toDrive({\n",
    "#   image: night2015,\n",
    "#   description: \"night2015\",\n",
    "#   folder: \"GEE_Workshop\",\n",
    "#   region: delhi,\n",
    "#   scale: 500,\n",
    "#   maxPixels: 1e10,\n",
    "#   fileFormat: 'GeoTIFF'\n",
    "#   })\n",
    "\n",
    "# Export.image.toDrive({\n",
    "#   image: night2020,\n",
    "#   description: \"night2020\",\n",
    "#   folder: \"GEE_Workshop\",\n",
    "#   region: delhi,\n",
    "#   scale: 500,\n",
    "#   maxPixels: 1e10,\n",
    "#   fileFormat: 'GeoTIFF'\n",
    "#   })\n",
    "\n",
    "# END OF ASSIGNMENT 1\n"
   ]
  },
  {
   "cell_type": "code",
   "execution_count": 34,
   "metadata": {},
   "outputs": [
    {
     "name": "stdout",
     "output_type": "stream",
     "text": [
      "the mean avg radiance (per month) for the pixels in our Timor-Leste region is: 0.2980\n",
      "the std dev is: 0.6565\n"
     ]
    }
   ],
   "source": [
    "mu = ntl_tls.reduceRegion(reducer=ee.Reducer.mean())\n",
    "std = ntl_tls.reduceRegion(reducer=ee.Reducer.stdDev())\n",
    "\n",
    "# we'll cast these to native ee Numbers using the ee.Number constructor\n",
    "mu = ee.Number(mu.get('avg_rad'))\n",
    "std = ee.Number(std.get('avg_rad'))\n",
    "\n",
    "# in order to confirm, we have to evaluate this to print client size (i.e. our computer)\n",
    "print(f\"the mean avg radiance (per month) for the pixels in our Timor-Leste region is: {mu.getInfo():.4f}\")\n",
    "print(f\"the std dev is: {std.getInfo():.4f}\")"
   ]
  }
 ],
 "metadata": {
  "interpreter": {
   "hash": "d2474beca447eed512ff2d29310aef23fe01c472e4d50a8f41e97c4e5e725739"
  },
  "kernelspec": {
   "display_name": "Python 3.8.10 64-bit ('gee': conda)",
   "name": "python3"
  },
  "language_info": {
   "codemirror_mode": {
    "name": "ipython",
    "version": 3
   },
   "file_extension": ".py",
   "mimetype": "text/x-python",
   "name": "python",
   "nbconvert_exporter": "python",
   "pygments_lexer": "ipython3",
   "version": "3.8.10"
  }
 },
 "nbformat": 4,
 "nbformat_minor": 5
}
