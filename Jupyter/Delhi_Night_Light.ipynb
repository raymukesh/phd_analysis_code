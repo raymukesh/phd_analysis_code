{
 "cells": [
  {
   "cell_type": "code",
   "execution_count": 2,
   "metadata": {},
   "outputs": [],
   "source": [
    "import ee\n",
    "import geemap"
   ]
  },
  {
   "cell_type": "code",
   "execution_count": 23,
   "metadata": {},
   "outputs": [
    {
     "data": {
      "application/vnd.jupyter.widget-view+json": {
       "model_id": "452d141b3c63409f80a42170dabf757c",
       "version_major": 2,
       "version_minor": 0
      },
      "text/plain": [
       "Map(center=[40, -100], controls=(WidgetControl(options=['position', 'transparent_bg'], widget=HBox(children=(T…"
      ]
     },
     "metadata": {},
     "output_type": "display_data"
    }
   ],
   "source": [
    "Map = geemap.Map()\n",
    "Map"
   ]
  },
  {
   "cell_type": "code",
   "execution_count": 26,
   "metadata": {},
   "outputs": [],
   "source": [
    "site = ee.FeatureCollection('users/Introduction/study_area')\r\n",
    "#Map.addLayer(site, {}, \"study_area\")\r\n",
    "\r\n",
    "site_dist = ee.FeatureCollection('users/Introduction/study_dist')\r\n",
    "Map.addLayer(site_dist, {}, \"study_dist\")"
   ]
  },
  {
   "cell_type": "code",
   "execution_count": 10,
   "metadata": {},
   "outputs": [
    {
     "name": "stdout",
     "output_type": "stream",
     "text": [
      "Mean Radiance in 2015:  5.32589382353451\n",
      "Mean Radiance in 2020:  6.551199360512761\n",
      "New Mean2015 is: 5.33\n"
     ]
    }
   ],
   "source": [
    "# Assignment 1\r\n",
    "\r\n",
    "# Export the Night Lights images for May,2015 and May,2020\r\n",
    "# Filter the collection to the date range\r\n",
    "# Extract the 'avg_rad' band which represents the nighttime lights\r\n",
    "# Clip the image to the geometry of your city\r\n",
    "# Export the resulting image as a GeoTIFF file.\r\n",
    "\r\n",
    "# Hint1:\r\n",
    "\r\n",
    "# There are 2 VIIRS Nighttime Day/Night collections\r\n",
    "# Use the one that corrects for stray light\r\n",
    "\r\n",
    "# Hint2:\r\n",
    "\r\n",
    "# The collection contains 1 global image per month\r\n",
    "# After filtering for the month, there will be only 1 image in the collection\r\n",
    "\r\n",
    "# You can use the following technique to extract that image\r\n",
    "# image = ee.Image(filtered.first())\r\n",
    "\r\n",
    "#==================================================================\r\n",
    "#                 BEGINNING OF ASSIGNMENT 1 - MUKESH RAY\r\n",
    "#==================================================================\r\n",
    "\r\n",
    "# Loading and Filtering the study area from GAUL dataset -- in this case Delhi, India\r\n",
    "delhi = ee.FeatureCollection(\"FAO/GAUL_SIMPLIFIED_500m/2015/level2\") \\\r\n",
    "              .filter(ee.Filter.eq(\"ADM1_NAME\", \"Delhi\"))\r\n",
    "\r\n",
    "\r\n",
    "\r\n",
    "Map.centerObject(site, 9)\r\n",
    "Map.addLayer(site)\r\n",
    "\r\n",
    "# Loading the VIIRS image collection\r\n",
    "viirs = ee.ImageCollection(\"NOAA/VIIRS/DNB/MONTHLY_V1/VCMSLCFG\")\r\n",
    "\r\n",
    "# Filtering one year of VIIRS dataset for 2015 and taking the first image\r\n",
    "night2015 = viirs.filter(ee.Filter.date(\"2015-01-01\", \"2015-12-31\")) \\\r\n",
    "                      .select('avg_rad') \\\r\n",
    "                      .first()\r\n",
    "\r\n",
    "# Filtering last one month of VIIRS dataset for 2020 (December)\r\n",
    "night2020 = viirs.filter(ee.Filter.date(\"2020-12-01\", \"2020-12-31\")) \\\r\n",
    "                      .select('avg_rad') \\\r\n",
    "                      .first()\r\n",
    "\r\n",
    "# Visualizing the the datasets for 2015 and 2020\r\n",
    "Map.addLayer(night2015.clip(site), {'min':0, 'max':50, 'palette': ['0c0c0c', '071aff', 'ff0000', 'ffbd03', 'fbff05', 'fffdfd']}, 'Night2015')\r\n",
    "Map.addLayer(night2020.clip(site), {'min':0, 'max':50, 'palette': ['0c0c0c', '071aff', 'ff0000', 'ffbd03', 'fbff05', 'fffdfd']}, 'Night2020')\r\n",
    "\r\n",
    "# Find the mean radiance in the Delhi for 2015 and 2020\r\n",
    "mean2015 = night2015.reduceRegion(\r\n",
    "  reducer= ee.Reducer.mean(),\r\n",
    "  geometry = site,\r\n",
    "  scale = 500,\r\n",
    "  maxPixels = 1e9\r\n",
    "  )\r\n",
    "\r\n",
    "mean2020 = night2020.reduceRegion(\r\n",
    "  reducer= ee.Reducer.mean(),\r\n",
    "  geometry = site,\r\n",
    "  scale = 500,\r\n",
    "  maxPixels = 1e9\r\n",
    "  )\r\n",
    "\r\n",
    "print(\"Mean Radiance in 2015: \", mean2015.get('avg_rad').getInfo())\r\n",
    "print(\"Mean Radiance in 2020: \", mean2020.get('avg_rad').getInfo())\r\n",
    "\r\n",
    "num2015 = ee.Number(mean2015.get('avg_rad'))\r\n",
    "num2020 = ee.Number(mean2020.get('avg_rad'))\r\n",
    "\r\n",
    "print(f\"New Mean2015 is: {num2015.getInfo():.2f}\")\r\n",
    "\r\n",
    "# By comparing the mean of night light in 2015 and 2020, it is observed that the night light has decreased in 2020\r\n",
    "# compared to 2015.\r\n",
    "\r\n",
    "\r\n",
    "# Export.image.toDrive({\r\n",
    "#   image: night2020,\r\n",
    "#   description: \"night2020\",\r\n",
    "#   folder: \"GEE_Workshop\",\r\n",
    "#   region: delhi,\r\n",
    "#   scale: 500,\r\n",
    "#   maxPixels: 1e10,\r\n",
    "#   fileFormat: 'GeoTIFF'\r\n",
    "#   })\r\n",
    "\r\n",
    "# END OF ASSIGNMENT 1\r\n"
   ]
  },
  {
   "cell_type": "code",
   "execution_count": 9,
   "metadata": {},
   "outputs": [],
   "source": [
    "out_dir = os.path.join(os.path.expanduser(\"~\"), \"Downloads\")\r\n",
    "filename = os.path.join(out_dir, 'nightlight_2015.tif')"
   ]
  },
  {
   "cell_type": "code",
   "execution_count": 10,
   "metadata": {},
   "outputs": [
    {
     "name": "stdout",
     "output_type": "stream",
     "text": [
      "The filename must end with .tif\n"
     ]
    }
   ],
   "source": [
    "geemap.ee_export_image(night2015, filename = filename, scale = 500, region= site.geometry(), file_per_band= False)"
   ]
  },
  {
   "cell_type": "code",
   "execution_count": 11,
   "metadata": {},
   "outputs": [],
   "source": [
    "import ee\r\n",
    "import geemap\r\n",
    "import numpy as np\r\n",
    "import matplotlib.pyplot as plt"
   ]
  },
  {
   "cell_type": "code",
   "execution_count": 21,
   "metadata": {},
   "outputs": [
    {
     "name": "stdout",
     "output_type": "stream",
     "text": [
      "(294, 480, 1)\n"
     ]
    }
   ],
   "source": [
    "img = night2015\r\n",
    "\r\n",
    "aoi = site.geometry()\r\n",
    "\r\n",
    "night_img = geemap.ee_to_numpy(img, region=aoi)\r\n",
    "\r\n",
    "print(night_img.shape)"
   ]
  }
 ],
 "metadata": {
  "interpreter": {
   "hash": "73e03da126b73bfff3642ec5261d56fa25c444ea595de51041687efaa60dda41"
  },
  "kernelspec": {
   "display_name": "Python 3.8.8 64-bit ('base': conda)",
   "name": "python3"
  },
  "language_info": {
   "codemirror_mode": {
    "name": "ipython",
    "version": 3
   },
   "file_extension": ".py",
   "mimetype": "text/x-python",
   "name": "python",
   "nbconvert_exporter": "python",
   "pygments_lexer": "ipython3",
   "version": "3.8.10"
  }
 },
 "nbformat": 4,
 "nbformat_minor": 5
}