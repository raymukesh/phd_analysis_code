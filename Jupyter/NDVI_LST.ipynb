{
  "cells": [
    {
      "cell_type": "code",
      "execution_count": 3,
      "source": [
        "import ee\r\n",
        "import geemap"
      ],
      "outputs": [],
      "metadata": {}
    },
    {
      "cell_type": "code",
      "execution_count": 10,
      "source": [
        "import os"
      ],
      "outputs": [],
      "metadata": {}
    },
    {
      "cell_type": "code",
      "execution_count": 4,
      "source": [
        "Map = geemap.Map()\r\n",
        "Map"
      ],
      "outputs": [
        {
          "output_type": "display_data",
          "data": {
            "text/plain": [
              "Map(center=[40, -100], controls=(WidgetControl(options=['position', 'transparent_bg'], widget=HBox(children=(T…"
            ],
            "application/vnd.jupyter.widget-view+json": {
              "version_major": 2,
              "version_minor": 0,
              "model_id": "e8a22e7d99554eb7947245201c1556a2"
            }
          },
          "metadata": {}
        }
      ],
      "metadata": {}
    },
    {
      "cell_type": "code",
      "execution_count": 5,
      "source": [
        "site = ee.FeatureCollection('users/Introduction/study_area')\r\n",
        "Map.addLayer(site, {}, \"study_area\")"
      ],
      "outputs": [],
      "metadata": {}
    },
    {
      "cell_type": "code",
      "execution_count": 16,
      "source": [
        "\r\n",
        "# Load MODIS vegetation indices data and subset a decade of images.\r\n",
        "vegIndices = ee.ImageCollection('MODIS/006/MOD13A1') \\\r\n",
        "                     .filter(ee.Filter.date('2010-01-01', '2020-01-01')) \\\r\n",
        "                     .select('NDVI')\r\n",
        "\r\n",
        "def func_xmt(image):\r\n",
        "  return image.multiply(0.0001) \\\r\n",
        "    .copyProperties(image, [\"system:time_start\"])\r\n",
        "\r\n",
        "ndvi = vegIndices.map(func_xmt).mean().clip(site)\r\n",
        "\r\n",
        "Map.addLayer(ndvi, {'palette': [\"#640000\",  \"#ff0000\",  \"#ffff00\",  \"#00c800\",  \"#006400\"], 'min': 0.1, 'max': 0.8}, \"NDVI\")\r\n"
      ],
      "outputs": [],
      "metadata": {}
    },
    {
      "cell_type": "code",
      "execution_count": 17,
      "source": [
        "# 3. Classify NDVI into 5 classes\r\n",
        "ndvi2 = ee.Image(1) \\\r\n",
        "          .where(ndvi.gt(0.0).And(ndvi.lte(0.2)), 2) \\\r\n",
        "          .where(ndvi.gt(0.2).And(ndvi.lte(0.4)), 3) \\\r\n",
        "          .where(ndvi.gt(0.4).And(ndvi.lte(0.6)), 4) \\\r\n",
        "          .where(ndvi.gt(0.6), 5)\r\n",
        "\r\n",
        "ndvi2 = ndvi2.clip(site)\r\n",
        "# Add map layers\r\n",
        "Map.addLayer(ndvi2, {'min': 1, 'max': 5, 'palette': [\"#ff0000\",'#FFA500','#FFFF00', '#00FF00', '#008000']}, 'Classified NDVI',True)\r\n"
      ],
      "outputs": [],
      "metadata": {}
    },
    {
      "cell_type": "code",
      "execution_count": 18,
      "source": [
        "out_dir = os.path.join(os.path.expanduser('~'), 'Downloads')\r\n",
        "filename = os.path.join(out_dir, 'ndvi2.tif')"
      ],
      "outputs": [],
      "metadata": {}
    },
    {
      "cell_type": "code",
      "execution_count": 19,
      "source": [
        "geemap.ee_export_image(ndvi2, filename=filename, scale=500, region=site.geometry(), file_per_band=False)"
      ],
      "outputs": [
        {
          "output_type": "stream",
          "name": "stdout",
          "text": [
            "Generating URL ...\n",
            "Downloading data from https://earthengine.googleapis.com/v1alpha/projects/earthengine-legacy/thumbnails/8a3856bb5ebdaa57da18f00813f40b10-d4983d16746793e0d0770f90ef4084f2:getPixels\n",
            "Please wait ...\n",
            "Data downloaded to C:\\Users\\Mukesh\\Downloads\\ndvi2.tif\n"
          ]
        }
      ],
      "metadata": {}
    },
    {
      "cell_type": "code",
      "execution_count": 20,
      "source": [
        "Map = geemap.Map()\r\n",
        "Map"
      ],
      "outputs": [
        {
          "output_type": "display_data",
          "data": {
            "text/plain": [
              "Map(center=[40, -100], controls=(WidgetControl(options=['position', 'transparent_bg'], widget=HBox(children=(T…"
            ],
            "application/vnd.jupyter.widget-view+json": {
              "version_major": 2,
              "version_minor": 0,
              "model_id": "fb1f7d09745b48ce911ab74aea0062b1"
            }
          },
          "metadata": {}
        }
      ],
      "metadata": {}
    },
    {
      "cell_type": "code",
      "execution_count": 29,
      "source": [
        "# Import image collection\r\n",
        "modis = ee.ImageCollection('MODIS/006/MOD11A2')\r\n",
        "print(modis)\r\n",
        "\r\n",
        "# A start date is defined and the end date is determined by advancing 1 year from the start date.\r\n",
        "start = ee.Date('2015-01-01')\r\n",
        "end = ee.Date('2020-12-31')\r\n",
        "dateRange = ee.DateRange(start, end)\r\n",
        "\r\n",
        "# Filter the LST collection to include only images from time frame and select day time temperature band\r\n",
        "\r\n",
        "modLSTday = modis.filterDate(dateRange).select('LST_Day_1km')\r\n",
        "\r\n",
        "# Scale to Kelvin and convert to Celsius, set image acquisition time.\r\n",
        "\r\n",
        "def func_dmp(image):\r\n",
        "  return image.multiply(0.02) \\\r\n",
        "              .subtract(273.5) \\\r\n",
        "              .copyProperties(image, [\"system:time_start\"])\r\n",
        "\r\n",
        "modC = modLSTday.map(func_dmp)\r\n",
        "\r\n",
        "\r\n",
        "#Clip to roi\r\n",
        "LSTclip = modC.mean().clip(site)\r\n",
        "\r\n",
        "# Add clipped image layer to the map.\r\n",
        "\r\n",
        "# 3. Classify NDVI into 5 classes\r\n",
        "temp = ee.Image(0) \\\r\n",
        "          .where(LSTclip.gt(0.0).And(LSTclip.lte(15)), 1) \\\r\n",
        "          .where(LSTclip.gt(15).And(LSTclip.lte(20)), 2) \\\r\n",
        "          .where(LSTclip.gt(20).And(LSTclip.lte(25)), 3) \\\r\n",
        "          .where(LSTclip.gt(25).And(LSTclip.lte(30)), 4) \\\r\n",
        "          .where(LSTclip.gt(30).And(LSTclip.lte(35)), 5) \\\r\n",
        "          .where(LSTclip.gt(35).And(LSTclip.lte(40)), 6) \\\r\n",
        "          .where(LSTclip.gt(40), 7)\r\n",
        "\r\n",
        "# Add map layers\r\n",
        "Map.addLayer(temp,  {'min': 1, 'max': 8, 'palette': ['#ffffcc','#ffeda0','#fed976','#feb24c','#fd8d3c','#fc4e2a','#e31a1c']},  'Classified LST',True)\r\n"
      ],
      "outputs": [
        {
          "output_type": "stream",
          "name": "stdout",
          "text": [
            "ee.ImageCollection({\n",
            "  \"functionInvocationValue\": {\n",
            "    \"functionName\": \"ImageCollection.load\",\n",
            "    \"arguments\": {\n",
            "      \"id\": {\n",
            "        \"constantValue\": \"MODIS/006/MOD11A2\"\n",
            "      }\n",
            "    }\n",
            "  }\n",
            "})\n"
          ]
        }
      ],
      "metadata": {}
    },
    {
      "cell_type": "code",
      "execution_count": 30,
      "source": [
        "out_dir = os.path.join(os.path.expanduser('~'), 'Downloads')\r\n",
        "filename = os.path.join(out_dir, 'LST.tif')"
      ],
      "outputs": [],
      "metadata": {}
    },
    {
      "cell_type": "code",
      "execution_count": 32,
      "source": [
        "geemap.ee_export_image(temp, filename=filename, scale=500, region=site.geometry(), file_per_band=False)"
      ],
      "outputs": [
        {
          "output_type": "stream",
          "name": "stdout",
          "text": [
            "Generating URL ...\n",
            "Downloading data from https://earthengine.googleapis.com/v1alpha/projects/earthengine-legacy/thumbnails/cc46578f2b323d05d463cd6e9c634d2a-c9fe45bad2f58e8ea91d3eef4233f014:getPixels\n",
            "Please wait ...\n",
            "Data downloaded to C:\\Users\\Mukesh\\Downloads\\LST.tif\n"
          ]
        }
      ],
      "metadata": {}
    }
  ],
  "metadata": {
    "orig_nbformat": 4,
    "language_info": {
      "name": "python",
      "version": "3.8.10",
      "mimetype": "text/x-python",
      "codemirror_mode": {
        "name": "ipython",
        "version": 3
      },
      "pygments_lexer": "ipython3",
      "nbconvert_exporter": "python",
      "file_extension": ".py"
    },
    "kernelspec": {
      "name": "python3",
      "display_name": "Python 3.8.10 64-bit ('gee': conda)"
    },
    "interpreter": {
      "hash": "d2474beca447eed512ff2d29310aef23fe01c472e4d50a8f41e97c4e5e725739"
    }
  },
  "nbformat": 4,
  "nbformat_minor": 2
}