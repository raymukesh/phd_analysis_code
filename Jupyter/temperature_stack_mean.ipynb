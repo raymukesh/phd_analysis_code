{
  "cells": [
    {
      "cell_type": "code",
      "execution_count": 1,
      "metadata": {},
      "outputs": [],
      "source": [
        "import ee\n",
        "import geemap\n",
        "import os"
      ]
    },
    {
      "cell_type": "code",
      "execution_count": 2,
      "metadata": {},
      "outputs": [
        {
          "data": {
            "application/vnd.jupyter.widget-view+json": {
              "model_id": "e3d862819072422f92d29f5a4661404f",
              "version_major": 2,
              "version_minor": 0
            },
            "text/plain": [
              "Map(center=[40, -100], controls=(WidgetControl(options=['position', 'transparent_bg'], widget=HBox(children=(T…"
            ]
          },
          "metadata": {},
          "output_type": "display_data"
        }
      ],
      "source": [
        "Map = geemap.Map()\n",
        "Map"
      ]
    },
    {
      "cell_type": "code",
      "execution_count": 3,
      "metadata": {},
      "outputs": [],
      "source": [
        "site = ee.FeatureCollection('users/Introduction/study_area')\n",
        "Map.addLayer(site, {}, \"study_area\")"
      ]
    },
    {
      "cell_type": "code",
      "execution_count": null,
      "metadata": {},
      "outputs": [],
      "source": [
        "# Calculate Long Term Rainfall Average\n",
        "\n",
        "# CHIRPS data comes as Pentad\n",
        "chirps = ee.ImageCollection(\"UCSB-CHG/CHIRPS/PENTAD\")\n",
        "\n",
        "# Long Period Average (LPA) should by 30 years or more\n",
        "\n",
        "# Center to site\n",
        "Map.centerObject(site, 9)\n",
        "\n",
        "# List of 30 years\n",
        "lpaYears = ee.List.sequence(2020, 2020)\n",
        "months = ee.List.sequence(1, 12)\n",
        "\n",
        "# # Introducting calendarRange()\n",
        "# julyImages = chirps\n",
        "#   .filter(ee.Filter.calendarRange(7, 7, 'month'))\n",
        "# print(julyImages)\n",
        "\n",
        "# Define time range\n",
        "startyear = 2001\n",
        "endyear = 2021\n",
        "\n",
        "# Set date in ee date format\n",
        "startdate = ee.Date.fromYMD(startyear,1,1)\n",
        "enddate = ee.Date.fromYMD(endyear+1,12,31)\n",
        "\n",
        " \n",
        "# create list for years\n",
        "years = range(startyear,endyear);\n",
        " \n",
        "# make a list with months\n",
        "months = range(1,13)\n",
        "\n",
        "#Filter to select Precipitation band\n",
        "PrecipitationChirps = chirps.filterDate(startdate, enddate).sort('system:time_start', False).select(\"precipitation\")\n",
        "\n",
        "# Map over the years and create a monthly totals collection\n",
        "\n",
        "# calculate the monthly Sum\n",
        "def MonthlySum(imageCollection):\n",
        "    mylist = ee.List([])\n",
        "    for y in years:\n",
        "        for m in months:\n",
        "            w = imageCollection.filter(ee.Filter.calendarRange(y, y, 'year')).filter(ee.Filter.calendarRange(m, m, 'month')).sum()\n",
        "            #mylist = mylist.add(w)\n",
        "            mylist = mylist.add(w.set('year', y).set('month', m).set('date', ee.Date.fromYMD(y,m,1)).set('system:time_start',ee.Date.fromYMD(y,m,1)))\n",
        "    return ee.ImageCollection.fromImages(mylist)\n",
        "\n",
        "\n",
        "# run the calcMonthlyMean function\n",
        "monthlyChirps = ee.ImageCollection(MonthlySum(PrecipitationChirps))\n",
        "\n",
        "\n",
        "print(\"coll\", monthlyChirps.first().getInfo())\n",
        "\n",
        "\n",
        "\n",
        "\n"
      ]
    },
    {
      "cell_type": "code",
      "execution_count": null,
      "metadata": {},
      "outputs": [],
      "source": [
        "image_ids = monthlyChirps.aggregate_array('system:index').getInfo()\n",
        "print('Total images: ', len(image_ids))\n",
        "print(monthlyChirps.first().getInfo())"
      ]
    },
    {
      "cell_type": "code",
      "execution_count": null,
      "metadata": {},
      "outputs": [],
      "source": [
        "out_dir = os.path.join(os.path.expanduser('~'), 'Downloads/rainfall')\n",
        "geemap.ee_export_image_collection(monthlyChirps, out_dir = out_dir, scale = 5000, region= site.geometry(), file_per_band= False)"
      ]
    }
  ],
  "metadata": {
    "interpreter": {
      "hash": "d2474beca447eed512ff2d29310aef23fe01c472e4d50a8f41e97c4e5e725739"
    },
    "kernelspec": {
      "display_name": "Python 3.8.10 64-bit ('gee': conda)",
      "name": "python3"
    },
    "language_info": {
      "codemirror_mode": {
        "name": "ipython",
        "version": 3
      },
      "file_extension": ".py",
      "mimetype": "text/x-python",
      "name": "python",
      "nbconvert_exporter": "python",
      "pygments_lexer": "ipython3",
      "version": "3.8.10"
    },
    "orig_nbformat": 4
  },
  "nbformat": 4,
  "nbformat_minor": 2
}
