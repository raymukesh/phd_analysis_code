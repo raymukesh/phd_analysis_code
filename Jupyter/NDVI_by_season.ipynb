{
  "cells": [
    {
      "cell_type": "code",
      "execution_count": 1,
      "metadata": {},
      "outputs": [],
      "source": [
        "import ee\n",
        "import geemap\n",
        "import os"
      ]
    },
    {
      "cell_type": "code",
      "execution_count": 2,
      "metadata": {},
      "outputs": [
        {
          "data": {
            "application/vnd.jupyter.widget-view+json": {
              "model_id": "cfaf77957bc547149b98d0bb668aab2d",
              "version_major": 2,
              "version_minor": 0
            },
            "text/plain": [
              "Map(center=[40, -100], controls=(WidgetControl(options=['position', 'transparent_bg'], widget=HBox(children=(T…"
            ]
          },
          "metadata": {},
          "output_type": "display_data"
        }
      ],
      "source": [
        "Map = geemap.Map()\n",
        "Map"
      ]
    },
    {
      "cell_type": "code",
      "execution_count": 3,
      "metadata": {},
      "outputs": [],
      "source": [
        "site = ee.FeatureCollection('users/Introduction/study_area')\n",
        "Map.addLayer(site, {}, \"study_area\")"
      ]
    },
    {
      "cell_type": "code",
      "execution_count": 5,
      "metadata": {},
      "outputs": [],
      "source": [
        "Map.centerObject(site, 9)\n",
        "\n",
        "modis = ee.ImageCollection(\"MODIS/006/MOD13Q1\").select('NDVI')\n",
        "\n",
        "img = modis.filter(ee.Filter.calendarRange(2001,2020,'year')) \\\n",
        ".filter(ee.Filter.calendarRange(2,2,'month'))\n",
        "\n",
        "# Scale the imagecollection and chart time series\n",
        "\n",
        "def func_nfr(image):\n",
        "  return image.multiply(0.0001) \\\n",
        "    .copyProperties(image, [\"system:time_start\", \"system:time_end\"])\n",
        "\n",
        "ndvi =  img.map(func_nfr)\n",
        "\n",
        "\n",
        "# reduce image collection with mean()\n",
        "ndvi = ndvi.mean()\n",
        "\n",
        "# Set visualization parameters\n",
        "\n",
        "\n",
        "# add layer\n",
        "Map.addLayer(ndvi.clip(site), {'palette': [\"red\", \"yellow\", \"green\"], 'min': 0.1, 'max': 0.8}, \"NDVI\")\n",
        "\n",
        "# 3. Classify NDVI into 5 classes\n",
        "ndvi2 = ee.Image(0) \\\n",
        "          .where(ndvi.gt(0.0).And(ndvi.lte(0.1)), 1) \\\n",
        "          .where(ndvi.gt(0.1).And(ndvi.lte(0.2)), 2) \\\n",
        "          .where(ndvi.gt(0.2).And(ndvi.lte(0.3)), 3) \\\n",
        "          .where(ndvi.gt(0.3).And(ndvi.lte(0.4)), 4) \\\n",
        "          .where(ndvi.gt(0.4).And(ndvi.lte(0.5)), 5) \\\n",
        "          .where(ndvi.gt(0.5).And(ndvi.lte(0.6)), 6) \\\n",
        "          .where(ndvi.gt(0.6).And(ndvi.lte(0.7)), 7) \\\n",
        "          .where(ndvi.gt(0.7).And(ndvi.lte(0.8)), 8) \\\n",
        "          .where(ndvi.gt(0.8), 9)\n",
        "\n",
        "ndvi2 = ndvi2.clip(site)\n",
        "# Add map layers\n",
        "Map.addLayer(ndvi2, {'min': 1, 'max': 9, 'palette': [\"#d73027\", \"#f46d43\", \"#fdae61\", \"#fee08b\", \"#ffffbf\", \"#d9ef8b\", \"#a6d96a\", \"#66bd63\", \"#1a9850\", \"#006837\"]}, 'Classified NDVI',True)\n"
      ]
    },
    {
      "cell_type": "code",
      "execution_count": 6,
      "metadata": {},
      "outputs": [],
      "source": [
        "out_dir = os.path.join(os.path.expanduser('~'), 'Downloads')\n",
        "filename = os.path.join(out_dir, '2_ndvi_Feb.tif')"
      ]
    },
    {
      "cell_type": "code",
      "execution_count": 7,
      "metadata": {},
      "outputs": [
        {
          "name": "stdout",
          "output_type": "stream",
          "text": [
            "Generating URL ...\n",
            "Downloading data from https://earthengine.googleapis.com/v1alpha/projects/earthengine-legacy/thumbnails/7edd3e7e959fadc65b4c391f065c5b79-8d9c6ebea8cb109025e22f12a639d74b:getPixels\n",
            "Please wait ...\n",
            "Data downloaded to C:\\Users\\Mukesh\\Downloads\\2_ndvi_Feb.tif\n"
          ]
        }
      ],
      "source": [
        "geemap.ee_export_image(ndvi2, filename=filename, scale=250, region=site.geometry(), file_per_band=False)"
      ]
    },
    {
      "cell_type": "code",
      "execution_count": null,
      "metadata": {},
      "outputs": [],
      "source": []
    }
  ],
  "metadata": {
    "interpreter": {
      "hash": "d2474beca447eed512ff2d29310aef23fe01c472e4d50a8f41e97c4e5e725739"
    },
    "kernelspec": {
      "display_name": "Python 3.8.10 64-bit ('gee': conda)",
      "name": "python3"
    },
    "language_info": {
      "codemirror_mode": {
        "name": "ipython",
        "version": 3
      },
      "file_extension": ".py",
      "mimetype": "text/x-python",
      "name": "python",
      "nbconvert_exporter": "python",
      "pygments_lexer": "ipython3",
      "version": "3.8.10"
    },
    "orig_nbformat": 4
  },
  "nbformat": 4,
  "nbformat_minor": 2
}
