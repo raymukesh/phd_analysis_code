{
  "cells": [
    {
      "cell_type": "code",
      "execution_count": 1,
      "source": [
        "import ee\r\n",
        "import geemap\r\n",
        "import os"
      ],
      "outputs": [],
      "metadata": {}
    },
    {
      "cell_type": "code",
      "execution_count": 2,
      "source": [
        "Map = geemap.Map()\r\n",
        "Map"
      ],
      "outputs": [
        {
          "output_type": "display_data",
          "data": {
            "text/plain": [
              "Map(center=[40, -100], controls=(WidgetControl(options=['position', 'transparent_bg'], widget=HBox(children=(T…"
            ],
            "application/vnd.jupyter.widget-view+json": {
              "version_major": 2,
              "version_minor": 0,
              "model_id": "cfaf77957bc547149b98d0bb668aab2d"
            }
          },
          "metadata": {}
        }
      ],
      "metadata": {}
    },
    {
      "cell_type": "code",
      "execution_count": 3,
      "source": [
        "site = ee.FeatureCollection('users/Introduction/study_area')\r\n",
        "Map.addLayer(site, {}, \"study_area\")"
      ],
      "outputs": [],
      "metadata": {}
    },
    {
      "cell_type": "code",
      "execution_count": 5,
      "source": [
        "Map.centerObject(site, 9)\r\n",
        "\r\n",
        "modis = ee.ImageCollection(\"MODIS/006/MOD13Q1\").select('NDVI')\r\n",
        "\r\n",
        "img = modis.filter(ee.Filter.calendarRange(2001,2020,'year')) \\\r\n",
        ".filter(ee.Filter.calendarRange(2,2,'month'))\r\n",
        "\r\n",
        "# Scale the imagecollection and chart time series\r\n",
        "\r\n",
        "def func_nfr(image):\r\n",
        "  return image.multiply(0.0001) \\\r\n",
        "    .copyProperties(image, [\"system:time_start\", \"system:time_end\"])\r\n",
        "\r\n",
        "ndvi =  img.map(func_nfr)\r\n",
        "\r\n",
        "\r\n",
        "# reduce image collection with mean()\r\n",
        "ndvi = ndvi.mean()\r\n",
        "\r\n",
        "# Set visualization parameters\r\n",
        "\r\n",
        "\r\n",
        "# add layer\r\n",
        "Map.addLayer(ndvi.clip(site), {'palette': [\"red\", \"yellow\", \"green\"], 'min': 0.1, 'max': 0.8}, \"NDVI\")\r\n",
        "\r\n",
        "# 3. Classify NDVI into 5 classes\r\n",
        "ndvi2 = ee.Image(0) \\\r\n",
        "          .where(ndvi.gt(0.0).And(ndvi.lte(0.1)), 1) \\\r\n",
        "          .where(ndvi.gt(0.1).And(ndvi.lte(0.2)), 2) \\\r\n",
        "          .where(ndvi.gt(0.2).And(ndvi.lte(0.3)), 3) \\\r\n",
        "          .where(ndvi.gt(0.3).And(ndvi.lte(0.4)), 4) \\\r\n",
        "          .where(ndvi.gt(0.4).And(ndvi.lte(0.5)), 5) \\\r\n",
        "          .where(ndvi.gt(0.5).And(ndvi.lte(0.6)), 6) \\\r\n",
        "          .where(ndvi.gt(0.6).And(ndvi.lte(0.7)), 7) \\\r\n",
        "          .where(ndvi.gt(0.7).And(ndvi.lte(0.8)), 8) \\\r\n",
        "          .where(ndvi.gt(0.8), 9)\r\n",
        "\r\n",
        "ndvi2 = ndvi2.clip(site)\r\n",
        "# Add map layers\r\n",
        "Map.addLayer(ndvi2, {'min': 1, 'max': 9, 'palette': [\"#d73027\", \"#f46d43\", \"#fdae61\", \"#fee08b\", \"#ffffbf\", \"#d9ef8b\", \"#a6d96a\", \"#66bd63\", \"#1a9850\", \"#006837\"]}, 'Classified NDVI',True)\r\n"
      ],
      "outputs": [],
      "metadata": {}
    },
    {
      "cell_type": "code",
      "execution_count": 6,
      "source": [
        "out_dir = os.path.join(os.path.expanduser('~'), 'Downloads')\r\n",
        "filename = os.path.join(out_dir, '2_ndvi_Feb.tif')"
      ],
      "outputs": [],
      "metadata": {}
    },
    {
      "cell_type": "code",
      "execution_count": 7,
      "source": [
        "geemap.ee_export_image(ndvi2, filename=filename, scale=250, region=site.geometry(), file_per_band=False)"
      ],
      "outputs": [
        {
          "output_type": "stream",
          "name": "stdout",
          "text": [
            "Generating URL ...\n",
            "Downloading data from https://earthengine.googleapis.com/v1alpha/projects/earthengine-legacy/thumbnails/7edd3e7e959fadc65b4c391f065c5b79-8d9c6ebea8cb109025e22f12a639d74b:getPixels\n",
            "Please wait ...\n",
            "Data downloaded to C:\\Users\\Mukesh\\Downloads\\2_ndvi_Feb.tif\n"
          ]
        }
      ],
      "metadata": {}
    },
    {
      "cell_type": "code",
      "execution_count": null,
      "source": [],
      "outputs": [],
      "metadata": {}
    }
  ],
  "metadata": {
    "orig_nbformat": 4,
    "language_info": {
      "name": "python",
      "version": "3.8.10",
      "mimetype": "text/x-python",
      "codemirror_mode": {
        "name": "ipython",
        "version": 3
      },
      "pygments_lexer": "ipython3",
      "nbconvert_exporter": "python",
      "file_extension": ".py"
    },
    "kernelspec": {
      "name": "python3",
      "display_name": "Python 3.8.10 64-bit ('gee': conda)"
    },
    "interpreter": {
      "hash": "d2474beca447eed512ff2d29310aef23fe01c472e4d50a8f41e97c4e5e725739"
    }
  },
  "nbformat": 4,
  "nbformat_minor": 2
}