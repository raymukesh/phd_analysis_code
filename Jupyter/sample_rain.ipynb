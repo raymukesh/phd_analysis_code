{
 "cells": [
  {
   "cell_type": "code",
   "execution_count": 3,
   "metadata": {},
   "outputs": [],
   "source": [
    "import ee\n",
    "import os\n",
    "ee.Initialize()\n"
   ]
  },
  {
   "cell_type": "code",
   "execution_count": 4,
   "metadata": {},
   "outputs": [],
   "source": [
    "geometry = ee.Geometry.Point([107.61303468448624, 12.130969369851766])\n",
    "s2 = ee.ImageCollection(\"COPERNICUS/S2\")\n",
    "rgbVis = {\n",
    "  'min': 0.0,\n",
    "  'max': 3000,\n",
    "  'bands': ['B4', 'B3', 'B2'],\n",
    "}\n",
    "\n",
    "# Write a function for Cloud masking\n",
    "def maskS2clouds(image):\n",
    "  qa = image.select('QA60')\n",
    "  cloudBitMask = 1 << 10\n",
    "  cirrusBitMask = 1 << 11\n",
    "  mask = qa.bitwiseAnd(cloudBitMask).eq(0).And(\n",
    "             qa.bitwiseAnd(cirrusBitMask).eq(0))\n",
    "  return image.updateMask(mask) \\\n",
    "      .select(\"B.*\") \\\n",
    "      .copyProperties(image, [\"system:time_start\"])\n",
    "\n",
    "filtered = s2 \\\n",
    "  .filter(ee.Filter.date('2019-01-01', '2020-01-01')) \\\n",
    "  .filter(ee.Filter.lt('CLOUDY_PIXEL_PERCENTAGE', 30)) \\\n",
    "  .filter(ee.Filter.intersects('.geo', geometry)) \\\n",
    "  .map(maskS2clouds)\n",
    "\n",
    "# Write a function that computes NDVI for an image and adds it as a band\n",
    "def addNDVI(image):\n",
    "  ndvi = image.normalizedDifference(['B5', 'B4']).rename('ndvi')\n",
    "  return image.addBands(ndvi)\n",
    "\n",
    "withNdvi = filtered.map(addNDVI)"
   ]
  },
  {
   "cell_type": "code",
   "execution_count": 7,
   "metadata": {},
   "outputs": [
    {
     "name": "stdout",
     "output_type": "stream",
     "text": [
      "{'type': 'Image', 'bands': [{'id': 'B1', 'data_type': {'type': 'PixelType', 'precision': 'int', 'min': 0, 'max': 65535}, 'dimensions': [1830, 1830], 'crs': 'EPSG:32648', 'crs_transform': [60, 0, 699960, 0, -60, 1400040]}, {'id': 'B2', 'data_type': {'type': 'PixelType', 'precision': 'int', 'min': 0, 'max': 65535}, 'dimensions': [10980, 10980], 'crs': 'EPSG:32648', 'crs_transform': [10, 0, 699960, 0, -10, 1400040]}, {'id': 'B3', 'data_type': {'type': 'PixelType', 'precision': 'int', 'min': 0, 'max': 65535}, 'dimensions': [10980, 10980], 'crs': 'EPSG:32648', 'crs_transform': [10, 0, 699960, 0, -10, 1400040]}, {'id': 'B4', 'data_type': {'type': 'PixelType', 'precision': 'int', 'min': 0, 'max': 65535}, 'dimensions': [10980, 10980], 'crs': 'EPSG:32648', 'crs_transform': [10, 0, 699960, 0, -10, 1400040]}, {'id': 'B5', 'data_type': {'type': 'PixelType', 'precision': 'int', 'min': 0, 'max': 65535}, 'dimensions': [5490, 5490], 'crs': 'EPSG:32648', 'crs_transform': [20, 0, 699960, 0, -20, 1400040]}, {'id': 'B6', 'data_type': {'type': 'PixelType', 'precision': 'int', 'min': 0, 'max': 65535}, 'dimensions': [5490, 5490], 'crs': 'EPSG:32648', 'crs_transform': [20, 0, 699960, 0, -20, 1400040]}, {'id': 'B7', 'data_type': {'type': 'PixelType', 'precision': 'int', 'min': 0, 'max': 65535}, 'dimensions': [5490, 5490], 'crs': 'EPSG:32648', 'crs_transform': [20, 0, 699960, 0, -20, 1400040]}, {'id': 'B8', 'data_type': {'type': 'PixelType', 'precision': 'int', 'min': 0, 'max': 65535}, 'dimensions': [10980, 10980], 'crs': 'EPSG:32648', 'crs_transform': [10, 0, 699960, 0, -10, 1400040]}, {'id': 'B8A', 'data_type': {'type': 'PixelType', 'precision': 'int', 'min': 0, 'max': 65535}, 'dimensions': [5490, 5490], 'crs': 'EPSG:32648', 'crs_transform': [20, 0, 699960, 0, -20, 1400040]}, {'id': 'B9', 'data_type': {'type': 'PixelType', 'precision': 'int', 'min': 0, 'max': 65535}, 'dimensions': [1830, 1830], 'crs': 'EPSG:32648', 'crs_transform': [60, 0, 699960, 0, -60, 1400040]}, {'id': 'B10', 'data_type': {'type': 'PixelType', 'precision': 'int', 'min': 0, 'max': 65535}, 'dimensions': [1830, 1830], 'crs': 'EPSG:32648', 'crs_transform': [60, 0, 699960, 0, -60, 1400040]}, {'id': 'B11', 'data_type': {'type': 'PixelType', 'precision': 'int', 'min': 0, 'max': 65535}, 'dimensions': [5490, 5490], 'crs': 'EPSG:32648', 'crs_transform': [20, 0, 699960, 0, -20, 1400040]}, {'id': 'B12', 'data_type': {'type': 'PixelType', 'precision': 'int', 'min': 0, 'max': 65535}, 'dimensions': [5490, 5490], 'crs': 'EPSG:32648', 'crs_transform': [20, 0, 699960, 0, -20, 1400040]}, {'id': 'ndvi', 'data_type': {'type': 'PixelType', 'precision': 'float', 'min': -1, 'max': 1}, 'dimensions': [5490, 5490], 'crs': 'EPSG:32648', 'crs_transform': [20, 0, 699960, 0, -20, 1400040]}], 'id': 'COPERNICUS/S2/20190113T031059_20190113T031703_T48PYU', 'version': 1617286897433922, 'properties': {'DATATAKE_IDENTIFIER': 'GS2B_20190113T031059_009682_N02.07', 'SPACECRAFT_NAME': 'Sentinel-2B', 'MEAN_INCIDENCE_AZIMUTH_ANGLE_B8A': 104.265319543, 'MEAN_SOLAR_AZIMUTH_ANGLE': 145.337167739, 'system:footprint': {'type': 'LinearRing', 'coordinates': [[106.92397306770629, 12.657656226335703], [106.92392569471649, 12.657642728126003], [106.92128155878979, 12.64968536688852], [106.91444922094931, 12.622253672388933], [106.83994066161713, 12.288696944317826], [106.83837361106772, 12.27495901723939], [106.83628881863416, 11.97044286689251], [106.83426022247498, 11.665924533341979], [106.83433062390115, 11.665834142686835], [107.84071745884506, 11.657648740205499], [107.84081001317695, 11.65771744936901], [107.84336069208554, 11.905630209008647], [107.8459686986918, 12.153517712503428], [107.84863457685647, 12.40140022834418], [107.85135859932734, 12.649277681498765], [107.85128827715862, 12.649368367619957], [106.92400765179623, 12.657685529323162], [106.92397306770629, 12.657656226335703]]}, 'SOLAR_IRRADIANCE_B12': 87.75, 'SOLAR_IRRADIANCE_B10': 365.41, 'SENSOR_QUALITY': 'PASSED', 'SOLAR_IRRADIANCE_B11': 247.08, 'GENERATION_TIME': 1547361788000, 'quality_check': 'PASSED', 'SOLAR_IRRADIANCE_B8A': 953.93, 'FORMAT_CORRECTNESS': 'PASSED', 'CLOUD_COVERAGE_ASSESSMENT': 1.036, 'system:time_end': 1547349883920, 'system:time_start': 1547349883920, 'DATASTRIP_ID': 'S2B_OPER_MSI_L1C_DS_SGS__20190113T064308_S20190113T031703_N02.07', 'PROCESSING_BASELINE': '02.07', 'SENSING_ORBIT_NUMBER': 75, 'SENSING_ORBIT_DIRECTION': 'DESCENDING', 'GENERAL_QUALITY': 'PASSED', 'GRANULE_ID': 'L1C_T48PYU_A009682_20190113T031703', 'REFLECTANCE_CONVERSION_CORRECTION': 1.03414195426, 'MEAN_INCIDENCE_AZIMUTH_ANGLE_B8': 103.420816444, 'DATATAKE_TYPE': 'INS-NOBS', 'MEAN_INCIDENCE_AZIMUTH_ANGLE_B9': 104.446504906, 'MEAN_INCIDENCE_AZIMUTH_ANGLE_B6': 104.056994255, 'MEAN_INCIDENCE_AZIMUTH_ANGLE_B7': 104.170161651, 'MEAN_INCIDENCE_AZIMUTH_ANGLE_B4': 103.775684971, 'MEAN_INCIDENCE_ZENITH_ANGLE_B1': 7.45031781965, 'MEAN_INCIDENCE_AZIMUTH_ANGLE_B5': 103.951594745, 'RADIOMETRIC_QUALITY': 'PASSED', 'MEAN_INCIDENCE_AZIMUTH_ANGLE_B2': 103.273481054, 'MEAN_INCIDENCE_AZIMUTH_ANGLE_B3': 103.5671189, 'MEAN_INCIDENCE_ZENITH_ANGLE_B5': 7.31489361901, 'MEAN_INCIDENCE_AZIMUTH_ANGLE_B1': 104.386732003, 'MEAN_INCIDENCE_ZENITH_ANGLE_B4': 7.28554489542, 'MEAN_INCIDENCE_ZENITH_ANGLE_B3': 7.24340767768, 'MEAN_INCIDENCE_ZENITH_ANGLE_B2': 7.21586410488, 'MEAN_INCIDENCE_ZENITH_ANGLE_B9': 7.49610708893, 'MEAN_INCIDENCE_ZENITH_ANGLE_B8': 7.2288549485, 'MEAN_INCIDENCE_ZENITH_ANGLE_B7': 7.37535152026, 'MEAN_INCIDENCE_ZENITH_ANGLE_B6': 7.34364761089, 'MEAN_SOLAR_ZENITH_ANGLE': 40.8862848383, 'MEAN_INCIDENCE_ZENITH_ANGLE_B8A': 7.40979020781, 'MGRS_TILE': '48PYU', 'CLOUDY_PIXEL_PERCENTAGE': 1.036, 'PRODUCT_ID': 'S2B_MSIL1C_20190113T031059_N0207_R075_T48PYU_20190113T064308', 'MEAN_INCIDENCE_ZENITH_ANGLE_B10': 7.27828854426, 'SOLAR_IRRADIANCE_B9': 817.58, 'DEGRADED_MSI_DATA_PERCENTAGE': 0, 'MEAN_INCIDENCE_ZENITH_ANGLE_B11': 7.33226777385, 'MEAN_INCIDENCE_ZENITH_ANGLE_B12': 7.41142449681, 'SOLAR_IRRADIANCE_B6': 1291.13, 'MEAN_INCIDENCE_AZIMUTH_ANGLE_B10': 103.829560206, 'SOLAR_IRRADIANCE_B5': 1425.78, 'MEAN_INCIDENCE_AZIMUTH_ANGLE_B11': 104.066823578, 'SOLAR_IRRADIANCE_B8': 1041.28, 'MEAN_INCIDENCE_AZIMUTH_ANGLE_B12': 104.299330021, 'SOLAR_IRRADIANCE_B7': 1175.57, 'SOLAR_IRRADIANCE_B2': 1959.77, 'SOLAR_IRRADIANCE_B1': 1874.3, 'SOLAR_IRRADIANCE_B4': 1512.79, 'GEOMETRIC_QUALITY': 'PASSED', 'SOLAR_IRRADIANCE_B3': 1824.93, 'system:asset_size': 1250439078, 'system:index': '20190113T031059_20190113T031703_T48PYU'}}\n"
     ]
    }
   ],
   "source": [
    "print(withNdvi.first().getInfo())"
   ]
  },
  {
   "cell_type": "code",
   "execution_count": null,
   "metadata": {},
   "outputs": [],
   "source": [
    "image_ids = withNdvi.aggregate_array('system:index').getInfo()\n",
    "print('Total images: ', len(image_ids))"
   ]
  }
 ],
 "metadata": {
  "interpreter": {
   "hash": "d2474beca447eed512ff2d29310aef23fe01c472e4d50a8f41e97c4e5e725739"
  },
  "kernelspec": {
   "display_name": "Python 3.8.10 64-bit ('gee': conda)",
   "name": "python3"
  },
  "language_info": {
   "codemirror_mode": {
    "name": "ipython",
    "version": 3
   },
   "file_extension": ".py",
   "mimetype": "text/x-python",
   "name": "python",
   "nbconvert_exporter": "python",
   "pygments_lexer": "ipython3",
   "version": "3.8.10"
  },
  "orig_nbformat": 4
 },
 "nbformat": 4,
 "nbformat_minor": 2
}
